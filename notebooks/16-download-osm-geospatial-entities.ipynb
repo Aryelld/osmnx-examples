{
 "cells": [
  {
   "cell_type": "markdown",
   "metadata": {},
   "source": [
    "# Download any OSM Geospatial Entities with OSMnx\n",
    "\n",
    "Author: [Geoff Boeing](https://geoffboeing.com/)\n",
    "\n",
    "More info:\n",
    "\n",
    "  - [Overview of OSMnx](http://geoffboeing.com/2016/11/osmnx-python-street-networks/)\n",
    "  - [Documentation and install instructions](https://osmnx.readthedocs.io)\n",
    "  - [Examples, demos, tutorials](https://github.com/gboeing/osmnx-examples)\n",
    "  - [Journal article and citation info](http://geoffboeing.com/publications/osmnx-complex-street-networks/)\n",
    "  - [GitHub repo](https://github.com/gboeing/osmnx)\n",
    "  \n",
    "This notebook provides a quick tour of using OSMnx to download any geospatial entites/objects from OpenStreetMap as a geopandas GeoDataFrame."
   ]
  },
  {
   "cell_type": "code",
   "execution_count": 1,
   "metadata": {},
   "outputs": [
    {
     "data": {
      "text/plain": [
       "'0.16.0'"
      ]
     },
     "execution_count": 1,
     "metadata": {},
     "output_type": "execute_result"
    }
   ],
   "source": [
    "import osmnx as ox\n",
    "%matplotlib inline\n",
    "ox.config(use_cache=True, log_console=True)\n",
    "ox.__version__"
   ]
  },
  {
   "cell_type": "markdown",
   "metadata": {},
   "source": [
    "Use the `geometries` module to download entities, such as local amenities, points of interest, or building footprints, and turn them into a GeoDataFrame: [see docs](https://osmnx.readthedocs.io/en/stable/osmnx.html#module-osmnx.geometries).\n",
    "\n",
    "To query, pass a `tags` dict where keys are OSM tags. The dict's values can be either:\n",
    "  1. `True` to retrieve all OSM objects with this tag, regardless of its value\n",
    "  2. a single value as a string to retrieve all OSM objects with this tag:value combination\n",
    "  3. a list of string values to retrieve all OSM objects where this tag matches any of these values\n",
    "\n",
    "Pass multiple dict key:value pairs to retrieve the union (not intersection) of these pairs."
   ]
  },
  {
   "cell_type": "code",
   "execution_count": 2,
   "metadata": {},
   "outputs": [
    {
     "data": {
      "text/plain": [
       "(50, 45)"
      ]
     },
     "execution_count": 2,
     "metadata": {},
     "output_type": "execute_result"
    }
   ],
   "source": [
    "# get all building footprints in some neighborhood\n",
    "# `True` means retrieve any object with this tag, regardless of value\n",
    "place = 'Bunker Hill, Los Angeles, California'\n",
    "tags = {'building': True}\n",
    "gdf = ox.geometries_from_place(place, tags)\n",
    "gdf.shape"
   ]
  },
  {
   "cell_type": "code",
   "execution_count": 3,
   "metadata": {},
   "outputs": [
    {
     "data": {
      "image/png": "[encoded data removed]",
      "text/plain": [
       "<Figure size 432x288 with 1 Axes>"
      ]
     },
     "metadata": {
      "needs_background": "light"
     },
     "output_type": "display_data"
    }
   ],
   "source": [
    "ax = gdf.plot()\n",
    "_ = ax.axis('off')"
   ]
  },
  {
   "cell_type": "code",
   "execution_count": 4,
   "metadata": {},
   "outputs": [
    {
     "data": {
      "text/plain": [
       "(4, 8)"
      ]
     },
     "execution_count": 4,
     "metadata": {},
     "output_type": "execute_result"
    }
   ],
   "source": [
    "# get all the parks in some neighborhood\n",
    "# constrain acceptable `leisure` tag values to `park`\n",
    "tags = {'leisure': 'park'}\n",
    "gdf = ox.geometries_from_place(place, tags)\n",
    "gdf.shape"
   ]
  },
  {
   "cell_type": "code",
   "execution_count": 5,
   "metadata": {},
   "outputs": [
    {
     "data": {
      "text/plain": [
       "(98, 43)"
      ]
     },
     "execution_count": 5,
     "metadata": {},
     "output_type": "execute_result"
    }
   ],
   "source": [
    "# get everything tagged amenity,\n",
    "# and everything tagged landuse = retail or commercial,\n",
    "# and everything tagged highway = bus_stop\n",
    "tags = {'amenity' : True,\n",
    "        'landuse' : ['retail', 'commercial'],\n",
    "        'highway' : 'bus_stop'}\n",
    "gdf = ox.geometries_from_place('Piedmont, California, USA', tags)\n",
    "gdf.shape"
   ]
  },
  {
   "cell_type": "code",
   "execution_count": 6,
   "metadata": {},
   "outputs": [
    {
     "data": {
      "text/html": [
       "<div>\n",
       "<style scoped>\n",
       "    .dataframe tbody tr th:only-of-type {\n",
       "        vertical-align: middle;\n",
       "    }\n",
       "\n",
       "    .dataframe tbody tr th {\n",
       "        vertical-align: top;\n",
       "    }\n",
       "\n",
       "    .dataframe thead th {\n",
       "        text-align: right;\n",
       "    }\n",
       "</style>\n",
       "<table border=\"1\" class=\"dataframe\">\n",
       "  <thead>\n",
       "    <tr style=\"text-align: right;\">\n",
       "      <th></th>\n",
       "      <th>unique_id</th>\n",
       "      <th>osmid</th>\n",
       "      <th>element_type</th>\n",
       "      <th>amenity</th>\n",
       "      <th>name</th>\n",
       "      <th>geometry</th>\n",
       "      <th>brand</th>\n",
       "      <th>brand:wikidata</th>\n",
       "      <th>brand:wikipedia</th>\n",
       "    </tr>\n",
       "  </thead>\n",
       "  <tbody>\n",
       "    <tr>\n",
       "      <th>7</th>\n",
       "      <td>node/2810181540</td>\n",
       "      <td>2810181540</td>\n",
       "      <td>node</td>\n",
       "      <td>bank</td>\n",
       "      <td>Citibank</td>\n",
       "      <td>POINT (-122.23256 37.82515)</td>\n",
       "      <td>Citibank</td>\n",
       "      <td>Q857063</td>\n",
       "      <td>en:Citibank</td>\n",
       "    </tr>\n",
       "    <tr>\n",
       "      <th>86</th>\n",
       "      <td>way/276424028</td>\n",
       "      <td>276424028</td>\n",
       "      <td>way</td>\n",
       "      <td>bank</td>\n",
       "      <td>Bank of America</td>\n",
       "      <td>POLYGON ((-122.23258 37.82491, -122.23252 37.8...</td>\n",
       "      <td>Bank of America</td>\n",
       "      <td>Q487907</td>\n",
       "      <td>en:Bank of America</td>\n",
       "    </tr>\n",
       "    <tr>\n",
       "      <th>89</th>\n",
       "      <td>way/285549437</td>\n",
       "      <td>285549437</td>\n",
       "      <td>way</td>\n",
       "      <td>bank</td>\n",
       "      <td>Wells Fargo</td>\n",
       "      <td>POLYGON ((-122.23147 37.82466, -122.23134 37.8...</td>\n",
       "      <td>Wells Fargo</td>\n",
       "      <td>Q744149</td>\n",
       "      <td>en:Wells Fargo</td>\n",
       "    </tr>\n",
       "  </tbody>\n",
       "</table>\n",
       "</div>"
      ],
      "text/plain": [
       "          unique_id       osmid element_type amenity             name  \\\n",
       "7   node/2810181540  2810181540         node    bank         Citibank   \n",
       "86    way/276424028   276424028          way    bank  Bank of America   \n",
       "89    way/285549437   285549437          way    bank      Wells Fargo   \n",
       "\n",
       "                                             geometry            brand  \\\n",
       "7                         POINT (-122.23256 37.82515)         Citibank   \n",
       "86  POLYGON ((-122.23258 37.82491, -122.23252 37.8...  Bank of America   \n",
       "89  POLYGON ((-122.23147 37.82466, -122.23134 37.8...      Wells Fargo   \n",
       "\n",
       "   brand:wikidata     brand:wikipedia  \n",
       "7         Q857063         en:Citibank  \n",
       "86        Q487907  en:Bank of America  \n",
       "89        Q744149      en:Wells Fargo  "
      ]
     },
     "execution_count": 6,
     "metadata": {},
     "output_type": "execute_result"
    }
   ],
   "source": [
    "# view just the banks\n",
    "gdf[gdf['amenity']=='bank'].dropna(axis=1, how='any')"
   ]
  },
  {
   "cell_type": "code",
   "execution_count": 7,
   "metadata": {},
   "outputs": [
    {
     "data": {
      "text/html": [
       "<div>\n",
       "<style scoped>\n",
       "    .dataframe tbody tr th:only-of-type {\n",
       "        vertical-align: middle;\n",
       "    }\n",
       "\n",
       "    .dataframe tbody tr th {\n",
       "        vertical-align: top;\n",
       "    }\n",
       "\n",
       "    .dataframe thead th {\n",
       "        text-align: right;\n",
       "    }\n",
       "</style>\n",
       "<table border=\"1\" class=\"dataframe\">\n",
       "  <thead>\n",
       "    <tr style=\"text-align: right;\">\n",
       "      <th></th>\n",
       "      <th>unique_id</th>\n",
       "      <th>osmid</th>\n",
       "      <th>element_type</th>\n",
       "      <th>name</th>\n",
       "      <th>geometry</th>\n",
       "      <th>bus</th>\n",
       "      <th>highway</th>\n",
       "      <th>network</th>\n",
       "      <th>public_transport</th>\n",
       "      <th>ref</th>\n",
       "      <th>route_ref</th>\n",
       "    </tr>\n",
       "  </thead>\n",
       "  <tbody>\n",
       "    <tr>\n",
       "      <th>10</th>\n",
       "      <td>node/4071030440</td>\n",
       "      <td>4071030440</td>\n",
       "      <td>node</td>\n",
       "      <td>Park Boulevard &amp; Saint James Drive</td>\n",
       "      <td>POINT (-122.21517 37.81248)</td>\n",
       "      <td>yes</td>\n",
       "      <td>bus_stop</td>\n",
       "      <td>AC Transit</td>\n",
       "      <td>platform</td>\n",
       "      <td>57544</td>\n",
       "      <td>V;33;688</td>\n",
       "    </tr>\n",
       "    <tr>\n",
       "      <th>13</th>\n",
       "      <td>node/5844909127</td>\n",
       "      <td>5844909127</td>\n",
       "      <td>node</td>\n",
       "      <td>Park Boulevard &amp; Estates Drive</td>\n",
       "      <td>POINT (-122.21392 37.81363)</td>\n",
       "      <td>yes</td>\n",
       "      <td>bus_stop</td>\n",
       "      <td>AC Transit</td>\n",
       "      <td>platform</td>\n",
       "      <td>54866</td>\n",
       "      <td>V;33;688</td>\n",
       "    </tr>\n",
       "    <tr>\n",
       "      <th>14</th>\n",
       "      <td>node/5845148873</td>\n",
       "      <td>5845148873</td>\n",
       "      <td>node</td>\n",
       "      <td>Hampton Road &amp; Sandringham Road</td>\n",
       "      <td>POINT (-122.21492 37.81822)</td>\n",
       "      <td>yes</td>\n",
       "      <td>bus_stop</td>\n",
       "      <td>AC Transit</td>\n",
       "      <td>platform</td>\n",
       "      <td>53832</td>\n",
       "      <td>33</td>\n",
       "    </tr>\n",
       "    <tr>\n",
       "      <th>15</th>\n",
       "      <td>node/5845152990</td>\n",
       "      <td>5845152990</td>\n",
       "      <td>node</td>\n",
       "      <td>Hampton Road &amp; Sandringham Road</td>\n",
       "      <td>POINT (-122.21459 37.81818)</td>\n",
       "      <td>yes</td>\n",
       "      <td>bus_stop</td>\n",
       "      <td>AC Transit</td>\n",
       "      <td>platform</td>\n",
       "      <td>50830</td>\n",
       "      <td>33</td>\n",
       "    </tr>\n",
       "    <tr>\n",
       "      <th>16</th>\n",
       "      <td>node/5845153014</td>\n",
       "      <td>5845153014</td>\n",
       "      <td>node</td>\n",
       "      <td>Hampton Road &amp; Seaview Avenue</td>\n",
       "      <td>POINT (-122.22303 37.81763)</td>\n",
       "      <td>yes</td>\n",
       "      <td>bus_stop</td>\n",
       "      <td>AC Transit</td>\n",
       "      <td>platform</td>\n",
       "      <td>53865</td>\n",
       "      <td>33</td>\n",
       "    </tr>\n",
       "  </tbody>\n",
       "</table>\n",
       "</div>"
      ],
      "text/plain": [
       "          unique_id       osmid element_type  \\\n",
       "10  node/4071030440  4071030440         node   \n",
       "13  node/5844909127  5844909127         node   \n",
       "14  node/5845148873  5845148873         node   \n",
       "15  node/5845152990  5845152990         node   \n",
       "16  node/5845153014  5845153014         node   \n",
       "\n",
       "                                  name                     geometry  bus  \\\n",
       "10  Park Boulevard & Saint James Drive  POINT (-122.21517 37.81248)  yes   \n",
       "13      Park Boulevard & Estates Drive  POINT (-122.21392 37.81363)  yes   \n",
       "14     Hampton Road & Sandringham Road  POINT (-122.21492 37.81822)  yes   \n",
       "15     Hampton Road & Sandringham Road  POINT (-122.21459 37.81818)  yes   \n",
       "16       Hampton Road & Seaview Avenue  POINT (-122.22303 37.81763)  yes   \n",
       "\n",
       "     highway     network public_transport    ref route_ref  \n",
       "10  bus_stop  AC Transit         platform  57544  V;33;688  \n",
       "13  bus_stop  AC Transit         platform  54866  V;33;688  \n",
       "14  bus_stop  AC Transit         platform  53832        33  \n",
       "15  bus_stop  AC Transit         platform  50830        33  \n",
       "16  bus_stop  AC Transit         platform  53865        33  "
      ]
     },
     "execution_count": 7,
     "metadata": {},
     "output_type": "execute_result"
    }
   ],
   "source": [
    "# view just the bus stops\n",
    "gdf[gdf['highway']=='bus_stop'].dropna(axis=1, how='any').head()"
   ]
  },
  {
   "cell_type": "code",
   "execution_count": null,
   "metadata": {},
   "outputs": [],
   "source": []
  }
 ],
 "metadata": {
  "kernelspec": {
   "display_name": "Python (ox)",
   "language": "python",
   "name": "ox"
  },
  "language_info": {
   "codemirror_mode": {
    "name": "ipython",
    "version": 3
   },
   "file_extension": ".py",
   "mimetype": "text/x-python",
   "name": "python",
   "nbconvert_exporter": "python",
   "pygments_lexer": "ipython3",
   "version": "3.8.5"
  }
 },
 "nbformat": 4,
 "nbformat_minor": 4
}
